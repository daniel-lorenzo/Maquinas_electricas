{
 "cells": [
  {
   "cell_type": "markdown",
   "metadata": {},
   "source": [
    "## Leyes fundamentales del electromagnetismo\n",
    "Todas las máquinas eléctricas tanto las de corriente continua como las de corriente alterna, ya sean estáticas o rotantes, funcionan según un grupo de leyes fundamentales que representan los fenómenos que en ellas suceden."
   ]
  },
  {
   "cell_type": "markdown",
   "metadata": {},
   "source": [
    "La comprensión de estas leyes hace más sencillo el entender el funcionamento de todas las máquinas eléctricas."
   ]
  },
  {
   "cell_type": "markdown",
   "metadata": {},
   "source": [
    "Las cuatro leyes fundamentades del electromagnetismo que estudiaremos son,"
   ]
  },
  {
   "cell_type": "markdown",
   "metadata": {},
   "source": [
    "### 1) Ley de Ampère\n",
    "Esta ley vincula el desplazamiento de cargas eléctricas con la generación de un campo magnético. Es a través de la circulación de este campo que obtengo el valor de la fuerza magnetomotriz encerrada. Dice:"
   ]
  },
  {
   "cell_type": "markdown",
   "metadata": {},
   "source": [
    "La circulación o trabajo del vector *H*, intensidad de campo magnético, a lo largo de una línea cerrada equipotencial es igual a la fuerza megnetomotriz encerrada por dicha línea."
   ]
  },
  {
   "cell_type": "markdown",
   "metadata": {},
   "source": [
    "$$ \\oint H \\, di = N \\cdot i $$"
   ]
  },
  {
   "cell_type": "code",
   "execution_count": null,
   "metadata": {},
   "outputs": [],
   "source": []
  }
 ],
 "metadata": {
  "kernelspec": {
   "display_name": "Python 3",
   "language": "python",
   "name": "python3"
  },
  "language_info": {
   "codemirror_mode": {
    "name": "ipython",
    "version": 3
   },
   "file_extension": ".py",
   "mimetype": "text/x-python",
   "name": "python",
   "nbconvert_exporter": "python",
   "pygments_lexer": "ipython3",
   "version": "3.8.3"
  }
 },
 "nbformat": 4,
 "nbformat_minor": 4
}
