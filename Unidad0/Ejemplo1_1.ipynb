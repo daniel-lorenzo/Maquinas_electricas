{
  "nbformat": 4,
  "nbformat_minor": 0,
  "metadata": {
    "colab": {
      "name": "Ejemplo1-1.ipynb",
      "provenance": [],
      "authorship_tag": "ABX9TyNlZQ/H5QwUkAk9UDAOeQD/",
      "include_colab_link": true
    },
    "kernelspec": {
      "name": "python3",
      "display_name": "Python 3"
    },
    "language_info": {
      "name": "python"
    }
  },
  "cells": [
    {
      "cell_type": "markdown",
      "metadata": {
        "id": "view-in-github",
        "colab_type": "text"
      },
      "source": [
        "<a href=\"https://colab.research.google.com/github/daniel-lorenzo/Maquinas_electricas/blob/master/Unidad0/Ejemplo1_1.ipynb\" target=\"_parent\"><img src=\"https://colab.research.google.com/assets/colab-badge.svg\" alt=\"Open In Colab\"/></a>"
      ]
    },
    {
      "cell_type": "markdown",
      "source": [
        "# Ejemplo 1\n",
        "Determine el valor de la resistencia de la carga $R_L$ en la figura para la máxima potencia transferida. ¿Cuál es la máxima potencia con que se alimenta a $R_L$?\n",
        "\n",
        "![image.png](data:image/png;base64,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)"
      ],
      "metadata": {
        "id": "D-brw40Ap_P7"
      }
    },
    {
      "cell_type": "markdown",
      "source": [
        "## Solución\n",
        "Primero se desconecta la resistencia de la carga $R_L$ para determinar el voltaje de circuito abierto $V_{ab}$"
      ],
      "metadata": {
        "id": "Z5UIO0W1qdWZ"
      }
    },
    {
      "cell_type": "markdown",
      "source": [
        "![image.png](data:image/png;base64,iVBORw0KGgoAAAANSUhEUgAAAg8AAAD3CAIAAAAVGSCoAAAAA3NCSVQICAjb4U/gAAAgAElEQVR4Xu3dB3gU1drA8d1N2ySQSjTU0CEQehcUxYuoARRQENRLqApIRwVFpCiXi40iwgWpFy6I7X6ioIgCV4rSQQGlhBJ6Cy3JZpPsfpMs6bub2d3Z5GT2nyePj5k9c857fu9h3uzMZkZrNp7R8IUAAggggIBdAZ3dV3kRAQQQQACBTAGqBesAAQQQQKBogdxqofWNKrq5jRbsawPGymasrKDY2ISVDRgrm7GygmJjE1Y2YKxszmul5bqFFSE2IYAAAgjkF+BMFCsCAQQQQKBoAapF0Ua0QAABBBCgWrAGEEAAAQSKFqBaFG1Ei5ITSNo9Y3DTqvW8faO0ZVu2eXntkWRzyQXDyAh4tADVwqPTL/rkzRqfSh1n/rg9yRB/e8+bdX+Y0OODY6miB018CKhTgM9EqTOvapxVevzczjH/6XtsW+9KXmqcH3NCQGwBb7HDIzrPFjCnHFv7wdj3v9tx6naGl5cm6VZKjdspJo2GauHZ64LZl4gAZ6JKhJ1BZQmkxa/qNXB9lclrz1w+fPPyvgMz6/lpuG4hi45GCCguQLVQnJQOFRMwGW7d1YTVrVe+jJcm4/quuR8f4aKFYrh0hICDApyJchCM5sUo4Fc37pPRewe3bTuv0v0hwTU6PlHLb1MxDs9QCCCQR4Cr3LKWg9Z3qdnYz35TpdrYH4VXEbAIKLXe5PSDOQKSAGeiil4G0j8nqZHlv7ZaK9XGVv9sRyCvgFLrTU4/yCNgEaBasBIQQAABBIoWoFoUbUQLBBBAAAGqRRFrwPJW3XLRwtbJKKXaFBEKLyOQJaDUepPTD+QI5AhQLVgMCCCAAAJFC3jiZ6LyvkWw/0mnvL98SZYFfrToKtXGfq7kx2y/H14VU0B+fpVab3L6sW8lP2b7/fBqaRFQ4O8t8i6a0jLtnDgFCd6hMBxqXOoyQsCC5NehMBxqXNpTbP9XzNI+Ozvx556JcuVZtXYGUN9L0j+MHCtb/0jybi/Qpsh91SfGjNwtwJp0t7Ai/btyjBVh39z3Fi4+oLsU1du8h2/7YUst8zaQ/t+ybwErq20KLK+cNpZ9rZYZO8HIj1mRZU0nxSwgP7+syWJOTd7hrP6zlR+PK8dYEfZV4EyUfCxBWto5KBeIUH5Ld09NnEjcPVPP7F9+fuW3dLekOJG4e6b0bxHgM1GOrQTLvxDLrxjZ7zMK3hFEqTaORUZrTxVQar3J6cdTjZl3pgDVgnWAAAIIIFC0gAKfoLX1K3bRg5faFjmnL+28GVeqTalFIvBiFVBqvcnpp1gnJtJgHnisy8vPewuRFiOxIIAAAqIKUC1EzQxxIYAAAiIJUC2cyYblBJSd01BSp0q1cSY+9vE8AaXWm5x+PE+XGWcKcN2CdYAAAgjIEuC6hSwmGiGAAAIIeLIAZ6I8OfvMHQEEEJArQLWQK0U7BBBAwJMFqBaenH3mjgACCMgVoFrIlaIdAggg4MkCVAtPzj5zRwABBOQKUC3kStEOAQQQ8GQBqoUnZ5+5I4AAAnIFqBZZUqYrS9tGSU+nsnwHVu/Wf+GRO2YLYtrxJa892qxNWelV/xe+vSVXlnYIuCRgZ00az/x73IDm1aIzl2uZFi3+vmjb9QyXxmJnBGQIUC1ykLzK9f3sZvLJ1Os7vx/mv/aVgVMPpFpe84mo333su1/MauWDlowlRRPlBGysybQbp9JiXln42bEz+85uebX+jnc6xX17kXqhnDs9WRXIPf658txXq13L3OjKuArvq/OWvnzLVnhw4IAHfc5v//Nu1rsLn6pd+g7r06FNjTJe2VNSeFyZUtJ9WnyjZLct2JB9C4rY/lkgK6trMrDJpNmj4zo2rFU+vHLzHlPG1Tfs3V7Bn7VhO6P5X3Elv3LHsNbOlXFF2De3Wrjy3FdrMnK3uTKuW/Y1p8Zv+Gp3WkTj6gFaG5Nwy7g2xsq7mXFlIN1roiorO2vSlLh74xm/mJbnUs7IxynQUlVWMhRcma+M7m02cWVcEfb1xOdy20hmxrWlvcqt8TanGlJN4bH/WPxuC38bLdmMQPEIFLUmzcm/f/zKgP81em9n14o573yLJzRG8TwBzsTn5FwX2nP+H39uObxz4ZsPGH/bduI2J4I979+DYDO2uybNd/d+OKD9dN2kTYuG1vIVLHLCUaEA1SInqVqvwLDI8uVrNOk0ZdXkJlsnv/LfK9QLFS750jQl22vSlLj17T4Pf+j/7ubFYxoH2jplWprmSqzCC1AtrKTIq2KXmcPLrR+/YE9S1qumNIMh1ZBmMptNRul/pP+zshObEHCjQL41mXFt/ZhnOi2OeG/jrLhqOunUqSE1nTXpRn26zhKgWlhdCH4Nh03oeuvfY1edS9eYLqzo4R9U+/7um1PTt/eoXNs/6Kl/JfCuw6obG90nkLsmjVe3TP3kROrVTUOaNAgIkhZkbf/wgT/cdt/Q9IxApgDPzmMdIIAAArIEeHaeLCYaIYAAAgh4sgBnojw5+8wdAQQQkCtAtZArRTsEEEDAkwWoFp6cfeaOAAIIyBWgWsiVKpF2GRfWtAjq+P7J9BIZnUERKCzAmixs4iFbqBZZibZzd+iiFkL6hU1v9e5WIyLzbude5R/rNm3L+bTsfVIT1o7tWaWs9FJ0zc7vb7ho/aBvvnt89YT+DSvVlHrQBrdu9fzc9QnGoobldbULuLAmNSlHpnd7vHK56pkrKqhV6/7LfkvM/nsM1qTaF4775ke1yLG1cXfoouzTbyTcqdVj1rc/JZzftX9eu5PT+z89/3RWvTAcmP73Pmvvf2fXYcOltaN0y57usfx4TiHJ6Tb56MwnnnxxXfiwz7bcvP3Xtd3/7J6yPLbF0OVnrZeWosLhdTUJOLkmNT4Rj46Y/v2eX69dOZCwbXKbvdNiR+/M+nsM1qSalkdxz4VqkUfc6t2hi8qIPqbfrKkvdGlVs1LE/Q27j5zaXntwY3yKtFfy4U8Wn206acLz0WX8whoMnvlS1f3LVvxV4E1DRsJnk97a32je+n+81LZSsF4fXrv966tWvBX+46g3tiXeexxTxpWfPnqidh3p98Swlq+vslSi1GOTo2u3mLH05XZNvX2jAqJf/vjQtd8Xj2kaWVXrW7de37XH7z2bo6joeV1wAafWpMY7otUjTetXvS88JLRC9WrVI3Q3jp+7I727YE0Knm6xw6NaFMpPwbtDJ23u/0CZ4DoBBb8bNJt2tMAx2Xzr6Iaj5rrtq+o1mozrR/ZeD2/dOMxyb1DfSk0bB1zYdjw533jmO7vX7jO1erFb5Tw3A/av/Xzfmjd/Xn/E0tZwctHn+lc3HzRe+35q+LqXhm+8eu+kQuqeBXubzfs5+faOFa12D3/02UH72q/868TdP6ZUX//2sG+ucyuIQqkttRucWZNZ6zaohldYpxG/VH554t8idazJUrsAxAicO5bn5MHW3aED2n74zfF3Cx97td5lQv3yZtGYsHLw0JWRI7YOqSbdEdSYfCtZow8JyK7HOv9Qf/Opmwapo9wSbUq6dD09sPZ9+Z+k4RVWNURz82Ki5VyU9/0vTh/UoaJUgKJfGNZ8/PDdp1NjIzK78K4/fGxcoxAfTcjj/dqFfHZ26MQu9YJ1muAnh7SZ8tL2hNRnw7nluhj/ypyOwpU1mbVu30m6uH/Tki8uPVAjcyGmsSadTgU7SkccELIFMu8Ovfu9BppLh5aOHvsv6Y7lI5qEZh6Utb4h5cqHFOWUEr84rtfos73XbxjRvEzmLUG9AoIDNIabKdllxpSSmKINDNHnezenC4wM9066dDXFrMnayfKVkXjmpiakeoglOd7BVcLupclLr/fOMKTdO0PlFVI52PKCzi9AXyYisoylb52fv1d6CreZKyplpeB1V9akZd2WK1+hX/kbPWp2X9Bw7+ho1mQpSLq4IXImKic3tu4OnfTTi828pM+WFPyuFfP2UUPW3uY7hz/s3m3M5b9v/H5s+7B7pF7h9ZqFX991MNFyA0Lj+f2Hkiu0qxWQby1oyzZ/prHut1X/J929MOfLcPw/y08EPxxbP39bcRcRkblLwPk1mT8ic0rCkfNGDWvSXYnyjH5zq4Urz311xcqVcd20b/47lge0m/Xd6fidZ/N8S/M9G/+/TWNqSaeHTIl7pjz5zOTUQT98PrCxX9a9zY1Z7ycC6g8dUGXvtPe+iE9Jv/PXsgmLTjXp+/c6vvlj9qr83NRJMXuHxL7x6c4Lt43GxBO/vP9i36lXOnw4vV1ooacWBD35g9PUbrIqMh7GLZIop4EdK4fWpOHY17NXbjtw+vqtW9f+3LR4yIT9+nZPxEi/fLAms6ztOMtPlhMtXRlXhH1zq4Urz311Ai5nF1fGddu+ee9YrvULj6xcqULeb2ncypXKR2adB7q765MZvyXf2fZem4p1M+8dLX0/8sXFzHqhb/zGilXdE8Y2rOsT/tQ/U5//8su4Wj6aAjFrA+u/ufG7pY9fmdXjweAytcKajl3j3ef/di/oX9XKScLb6zs5Te02qyIiYtwigPK8bNfKgTWpNd/dPf/V9nWbhkQ0q99n5c3O0zavfDrrUaysyUxuu87y0+VwS1fGFWFf7ljucMrZAQEEPFOAO5Z7Zt6ZNQIIIICAAwJc5XYAi6YIIICAxwpQLTw29UwcAQQQcECAauEAFk0RQAABjxWgWnhs6pk4Aggg4IAA1cIBLJoigAACHitAtfDY1DNxBBBAwAEBqoUDWDRFAAEEPFaAauGxqWfiCCCAgAMCVAsHsGiKAAIIeKwA1cJjU8/EhRP43DdK+hYuLAJCIEvAyq3rkEEAgRIReNZ4Rho3p2BYfiyRSBgUgcICVIvCJmxBoCQFcooEZaMk08DYhQSoFoVI2ICAGAKUDTHyQBT3BKgWLAUERBcoUDY4QyV6wlQaH9VCpYllWmoU4MKGGrNaauZEtSg1qSJQBCwCnKFiJZSIQG61kJ776srD/JyO3pVxS+O+fETS6aXCjrYELIvK6TNUpfHfUUnFbCsFcraXVMxKjcuTVuVkmTYIiCjAh6aKOSse/qRVzkQV83pjOARcFaBIuCrI/k4JUC2cYmMnBIpdwKUiYbqy9MHWr8WsPf2v5oHFHjkDqkOAaqGOPDILNQu4eFlCzTTMrRgFqBbFiM1QCDgi4NKbCUcGoi0CcgSoFnKUaINA8QlQJIrPmpEcEaBaOKJFWwTcKcAZJ3fq0rerAlQLVwXZHwGlBJz+gwmlAqAfBOwI8HwLOzi8hAACCCBwT4BqwVJAAAEEEChagGpRtBEtEEAAAQS4bsEaQMADBHT39dse388DJsoU3SfAewv32dIzAgggoB4BqoV6cslMEEAAAfcJUC3cZ0vPCCCAgHoEqBbqySUzQQABBNwnQLVwny09I4AAAuoRcLVaWB4PInnk/I96bJgJAgggkC3Asc7VasFaQgABBBDwBIHcaiE9u7VEJuzKuOwrP2VYYWVLgLVhS0bZ7aXd2dXncuc9AWU28tc/yq4uekMAAVEEONa5eiYqp0JQKkRZ1MSBAAJuEOBY52q1cENS6BIBBBBAQDgBqoVwKSEgBBBAQEABqoWASSEkBBBAQDgBqoVwKSEgBBBAQECBkqsWGZf//VjtoGd+vG7Ow5Ke8HHrGhEDdt5Ov/T1uL7N6zTQ+UZpW//nXIaAdISEAAIIyBCwe6y7cWHTW7271YiIkj5f61X+sW7TtpxPk9FnSTQpuWrhdV/sqA66Hz799lJuKUj964s5+++Le6VJkMYruM4jw97/eHGPkJILsSQSwpgIIKAyAbvHuoAbCXdq9Zj17U8J53ftn9fu5PT+T88/LWa9KMFDsTas/cDnQvfMWnsumyZl/8LV8fX6DorRa7wjOgyK69elZXS4t1ZlS4fpIICAZwnYO9bpY/rNmvpCl1Y1K0Xc37D7yKnttQc3xqcI6VOC1UKjCWw4rH/FQ/M/P5qaaWO+uWv2msQ2I5+q4SMkFUEhgAACzgnIO9aZbx3dcNRct31VvXOjuHmvEq0WGt/ovv0aJ3w2f1+yRmO6svHTb9IfGtM50svNc6Z7BBBAoHgFZBzrjAkrBw9dGTliyZBqvsUbnMzRSrZaaLyjYsc8eHvNnF2JaRe+mr0jsPugv5XjzJPM3NEMAQRKjUARx7qU+MUvdh92tvf6DSOalxH0GOhdwti6iCdHPqrp/ek325rN3nt/3LwmZUs4IIZHAAEE3CBg+1hnvnP4o559pqQM3Pj9sNbBJfwbvJ2Zl3S10GhDHxrQO7j78LjfkuqNG1TfLydWU5rRmJGammE2m9INhlSDj7efr5egNdcOMC8hgAACmQLWj3WmxD1Tu774oc+wjZ8PaOyXZjBoNDofva+INUOAmAIbDB1Q9c7FjLYjn6qee3377vc9ov2DGj28+LrpwFu1Qmv7x3z4e9bFcL4QQACBUilg7Vh3d9cnM35LvrPtvTYV6/oH1c78fuSLiyYR5+fqHculOVlu5Gv9HrTSMzOMZ0ScNzEhgAACDgp4+LFOgPcWDiaM5ggggAACxS9AtSh+c0ZEAAEESp+Ae65y531oa87/c0qq9C0PIkYAAbsCnnSsy31v4cozYwtySoXB8i29kPf/C7bL/NmVcdnXmqj1bVhZd7G2FStrKta3eZpVQQVPOtZxlbtg9vkZAQQQsCrAVW6rLMWyMXn/sCrVGs87l54zWtKuuMhqLZddlvP5sZRDC3o98rcKQdKdfhv33y7dOyTny5T466KeTRpIv/V4V+wct+jo3eyboqdf2jqpa/sy0l3Qy7Z+aNQ3J6WPNuf7Sj/+QSfvKm/uSMq71XjwrXa62jMP8vndAlr8iAACMgVcOdaZkw4smNCpaTO9dODyrVv1kQmfHkqyHNLSTy9plLkx+zts6E938gdk92bpt2UGn93MzVe53XmtQquPbP3ciMWrxzbI/zd7GZfWx3WZGf/0wgu3/zy5sPnOkS8M/+lWJm7amQU9B87O6Lvl4vHbe8ZHfT3q8Wm/57/Xo3f13gMeSPxm1i9Z7S1fdw/OW3ah0bCe9XL/cNBBY5rbElB0KdsahO0IFIeA+451ZsPF8/oOr3/867G9l/9aNip0w6BOb/2cc4jSR886fCTl9rHM74tzHilwMwy7N0sPctDFzdXCwWgcaq6v/fTol7p2alYhIN8kMi6u/3SDb7ePxrYpr/ePenLU+0+krJ396w2zxnjiv3N2lR8584Xm4b5l63SZMbnRmSXL9+R7G6HxKt9x7GMZ383Zkv3uxnxj6+K1t1qM7lmZG+M6lB1ZjRVdyrJGpBECpU5AF/7EtLdf79WmcdVy91VrPWRyn2qJe385n3NGRuerl778Mr/9vAsd0O3dLN1RCXufibKcpJPZo8zG1v+Iz9oYaSeXdmg7Y2/hG70HPbT20KLOodb2ydyWGr/tlKlmXJ3ArAbaMvUeqpw6d9/Z1E7VTuw641+3XRXL7R29whs1i7y57cDV9AcD8yBoQzuMjC3zxOIvE2KHRXlrTFe/m/2z+fFPuDGuLW7XtluWci/pGSd9RkZl1WPLM076Zz7jhC8EiktA5uHLEo7Mxu451qVf2LHzfFBMq/LZRy3D4TfaNHktxTsypl3chPGvPl6h4P1rs26Wvkh6MMTL4xr6ZT8Y4p/OPBjCXrUorkxZH8enaq+vD8Sm5X0Oa3auwkKs75K11ZScmKILLOt37/SULiBUr0m5mWwyGW4lZehz34joAoL9NYYbyQUHKNuyX78KsXNXnhr0Zi3d6W8/2lb2uR/bhHGDKjvkrryk3FJ2JQr2RaAEBWQf60w3d8zqMf7s04vmdwzNPCTpQlq+uWJ5lQZR4ebLO1b8c2jXZy5v/nF228D8h6usm6W/98n8fUPnt9FbHgyx0qnff+1VC/m10UlorVa6TaApI88lbXPmTzrLzQO9AspFBjjes1Qe/E0n76ZKVSDTTCoeBo1/SIBOpw8O1BlupWSPZkq+laLRhwUUqgP62gOG1vlgzqoDo9/w//fyg5WfW9bc8j7F8VjYo2gBxZZy0UPRAgEbAqXhWJdxbfN7nZ75qsbsL5Y/G2k5cOtCYno+Z5lStVr/mJe89YGJi//4R9tWBQ5YWTdLn/HKnF3Tm9fMejDEKuceDFHoNJcNTbds9gmtFm6+dORyzqeNTHfOnritrxgZKIWVdmJRy5A8l/tzrvtH9P2/RDvh+FVrW00Xv/O45UNS5qQ/tyX4RTet4qcJqNmyquHYjgTLc11NN37fdyk0pnFE4XrpXb3XwLbX/ztn0455S85J17ejub5tx9vll4q473/B/lMPTuwQPfFowY+zFWzGzwiIJODqsS79/LpJ7bqvi1nw9aq+1ayfpdV6+floTenmgmdLJAbLzdI3SA+G+DzzwRDDnHwwROFjZTESe1fsOrDphPHT3u0y67WOVfxuHFk9/oNfIzr/2CLzLYVP1T7rDscaC09d61cuOCtIc4YxNT09Nd1kNku3NjcYvL18fX10XhViBz4xfuy42c+ue7WBccvHr2/w7/nf1tKpJG3Np4e3mDfpjTXdVvSuef2HiVMORvWb0sza2wav8o+OeeztboPH6FJaLHm2Ete33bsmbN/3373j0jsCxSbg0rHOeGr1uPaD93ZYsnpul3Im6fENGq30/AZvbfqlLd9s1cY8UL9CsOnSjmXvvLor9Km3o60d0qzfLN3R2Svw13mODpmvfcb1rbOmvDr3+90XpDcYZWs9+uykj159vm7h00NWBjEenR3T6MPjua9oO3z1+0+dpU+QmRJ3Lho0ZO6XR+7oysW8MPn9jwdFl8064ZR+ccvkQW99tPFssm9ku4FvLJvxVA3rZVpz95fXqz+6xtBt6ek1HbhoYUVf2U1Je4fW675S45sUPu7P316qlV2f08+te/n5OduuphqSM8rHvr76o65VfaX3Fo8/daRtiys79yXcMNV7cenKUQ+Hl+hbZGUp6E2tAk4f64wn323aYeKxvC7hg/+3/V+tfc6sHv/MG+v3nU+Szt+H1XkobuLb03pWt3H0NP4xtWODdxIeXLRjc18nn2Zd0tVCrSuDeTkmYH0pmw2JV9OD7ivjpTGeW9LtuW+HfvdlrP7QxA6Nlz+wbu+MzuE3NwzvOjj9gyMLW/PIRce8aY2A4wKOnYmS+dGxnDDcfu3I8Qmzh5ACvjGTtponFQzNbDz/1fhXFu64ZvbzMpy5pDlwJS22ikbjG/VUnw73eWk04Q8P6KSP+198autGXFsqiMfPLglwrCvM51i1KLw/WxBwm4DxyKxR79wc/evu2Eo+ht9GduwnXaIqMJi20Efa3BYNHSPg4QKc8PXwBSDy9E1J1w1BtWtE+GjMt39f/W2C8V6wxjPf/Ofnyxka6UTwp98b2jxUnTcWIqeR2NQiwHsLtWRShfPQNxk1qnmvIQ/uql5eHxgRHZldFPyiWuqXdXt02JkbmgZ9V6xsyUULFSafKYknoMBVbnt38RVvwkSEAAIIOCfg4cc6zkQ5t2zYCwEEEPAsAaqFZ+Wb2SKAAALOCVAtnHNjLwQQQMCzBHKrhSvP13XFzJVx2Ve+PFZY2RJgbdiSUXZ7aXd2y1Vuqyhm9z1bStmU0hsCCCBgTaDwVW6POta55RO0FAZrK41tCCCgNgGPOtZx3UJty5f5IIAAAu4QoFq4Q5U+EUAAAbUJUC3UllHmgwACCLhDgGrhDlX6RAABBNQmQLVQW0aZDwIIIOAOAaqFO1TpEwEEEFCbANVCbRllPggggIA7BKgW7lClTwQQQEBtAlQLtWWU+SCAAALuEKBauEOVPhFAAAG1CVAt1JZR5oMAAgi4Q4Bq4Q5V+kQAAQTUJkC1UFtGmQ8CCCDgDgGqhTtU6RMBBBBQmwDVQm0ZZT4IIICAOwRcrRaWx4NIkeX8jzuipE8EEECgZAU41rlaLUo2f4yOAAIIIFA8ArnVwuojA4shCFfGZV/5CcIKK1sCrA1bMspuL+3Orj6XO+8JKLOxn7K49IYAAggIIsCxztUzUTkVglIhyJomDAQQcIcAxzpXq4U7skKfCCCAAAKiCVAtRMsI8SCAAAIiClAtRMwKMSGAAAKiCVAtRMsI8SCAAAIiClAtRMwKMSGAAAKiCVAtRMsI8SCAAAIiClAtRMwKMSGAAAKiCVAtRMsI8SCAAAIiClAtRMwKMSGAAAKiCVAtRMsI8SCAAAIiClAtRMwKMSGAAAKiCVAtRMsI8SCAAAIiClAtRMwKMSGAAAKiCVAtRMsI8SCAAAIiClAtRMwKMSGAAAKiCVAtRMsI8SCAAAIiClAtRMwKMSGAAAKiCeRWC1eeGevKrFwZl33ly2OFlS0B1oYtGWW3l3ZnV5/LLWlaHlfLk1aVXVj0hgACogl4+LGOM1GiLUjiQQABBEQUoFqImBViQgABBEQToFqIlhHiQQABBEQUoFqImBViQgABBEQToFqIlhHiQQABBEQUoFqImBViQgABBEQToFqIlhHiQQABBEQUoFqImBViQgABBEQToFqIlhHiQQABBEQUoFqImBViQgABBEQToFqIlhHiQQABBEQUoFqImBViQgABBEQToFqIlhHiQQABBEQUoFqImBViQgABBEQToFqIlhHiQQABBEQUoFqImBViQgABBEQToFqIlhHiQQABBEQUoFqImBViQgABBEQTyK0Wrjwz1pVZuTIu+8qXxworWwKsDVsyym4v7c48l1vZ9UBvCCCgWgGey63a1DIxBBBAAAGlBLhuoZQk/SCAAAJqFqBaqDm7zA0BBBBQSoBqoZQk/SCAAAJqFqBaqDm7zA0BBBBQSoBqoZQk/SCAAAJqFqBaqDm7zA0BBBBQSoBqoZQk/SCAAAJqFqBaqDm7zA0BBBBQSoBqoZQk/SCAAAJqFqBaqDm7zA0BBBBQSoBqoZQk/SCAAAJqFqBaqDm7zA0BBBBQSoBqoZQk/SCAAAJqFqBaqDm7zA0BBBBQSoBqoZQk/SCAAAJqFmMN7dEAAAIoSURBVKBaqDm7zA0BBBBQSsBbqY4sT5VSqjf6QQABBBAQSiD3vYUrz4wVakoEgwACCAgo4MoxVoR9FXgut4BZISQEEEAAAWUFuG6hrCe9IYAAAuoUoFqoM6/MCgEEEFBWgGqhrCe9IYAAAuoUoFqoM6/MCgEEEFBWgGqhrCe9IYAAAuoUoFqoM6/MCgEEEFBWgGqhrCe9IYAAAuoUoFqoM6/MCgEEEFBWgGqhrCe9IYAAAuoUoFqoM6/MCgEEEFBWgGqhrCe9KSqQemxydO12a2+YFe2VzhBAwAkBqoUTaOyCAAIIeJwA1cLjUs6EEUAAAScEqBZOoLFLcQqYU/76YkCb5gF+UfrqfSZsuJxenIMzFgIIZAtQLVgLggsY983d3uSTzXdSDu96zXfBc0MXnqJeCJ4ywlOnANVCnXlV0ax01V4eP7hJWS9dmYb93xxd8cCCdRcoFyrKL1MpNQJUi1KTKk8N1CeyboSvZfK+5erer71xOjHNUy2YNwIlKEC1KEF8hpYjkHbpz6tGS0PjtT8vm8OiQnzk7EcbBBBQVCC3Wojw3FdHp0bM8sVKpVXZjhqN6dTCmZ8eumsyJf2xYsascw0GdanoLWPapXK+vlEyZma9CfO17mJtK1bWVKxvy2vFc7mtG7FVCAHpr/Max67rM67RdwvX7L+WUaH1iLmzp3eO5L2FENkhCA8ToFp4WMKZLgIIIOCUANctnGJjJwQQQMDDBP4f4anFrr3g1UQAAAAASUVORK5CYII=)"
      ],
      "metadata": {
        "id": "SblF8GnIsHej"
      }
    },
    {
      "cell_type": "markdown",
      "source": [
        "Al aplicar la ley del voltaje de Kirchhof (LVK) se obtiene\n",
        "\n",
        "$$ (R_1 + R_2) I + V_2 - V_1 = 0 $$"
      ],
      "metadata": {
        "id": "ifYueJuox04p"
      }
    },
    {
      "cell_type": "markdown",
      "source": [
        "Despejamos $I$\n",
        "$$ I = \\frac{V_1 -V_2}{R_1 + R_2} $$"
      ],
      "metadata": {
        "id": "ayefGYDXyMih"
      }
    },
    {
      "cell_type": "code",
      "source": [
        "# Datos:\n",
        "V_1 = 100 # [V]\n",
        "V_2 =  25 # [V]\n",
        "R_1 =  20 # [Ohm]\n",
        "R_2 =  30 # [Ohm]"
      ],
      "metadata": {
        "id": "tbevIuA4w88f"
      },
      "execution_count": null,
      "outputs": []
    },
    {
      "cell_type": "code",
      "execution_count": null,
      "metadata": {
        "colab": {
          "base_uri": "https://localhost:8080/"
        },
        "id": "cBoQEggip8HC",
        "outputId": "d0118935-b890-47f7-9a96-d0d9c248edb3"
      },
      "outputs": [
        {
          "output_type": "stream",
          "name": "stdout",
          "text": [
            "I = 1.50 [A]\n"
          ]
        }
      ],
      "source": [
        "I = (V_1 - V_2)/(R_1 + R_2)\n",
        "print('I = %.2f [A]'%I)"
      ]
    },
    {
      "cell_type": "markdown",
      "source": [
        "El voltaje de circuito abierto es\n",
        "$$ V_T = V_{ab} = V_1 - I R_1 $$"
      ],
      "metadata": {
        "id": "dKksQM7itT3N"
      }
    },
    {
      "cell_type": "code",
      "source": [
        "V_ab = V_1 - I*R_1\n",
        "V_T = V_ab"
      ],
      "metadata": {
        "id": "qBT_feUzttAu"
      },
      "execution_count": null,
      "outputs": []
    },
    {
      "cell_type": "code",
      "source": [
        "print('V_ab = %.1f [V]'%V_ab)"
      ],
      "metadata": {
        "colab": {
          "base_uri": "https://localhost:8080/"
        },
        "id": "eQSoWADjzwpg",
        "outputId": "a09bfc76-895c-4054-b7d8-b8bdfd84dfda"
      },
      "execution_count": null,
      "outputs": [
        {
          "output_type": "stream",
          "name": "stdout",
          "text": [
            "V_ab = 70.0 [V]\n"
          ]
        }
      ]
    },
    {
      "cell_type": "markdown",
      "source": [
        "Poniendo en cortocircuito las fuentes de voltaje independientes se obtiene la resistencia equivalente de Thévenin"
      ],
      "metadata": {
        "id": "ssFzE_7f0271"
      }
    },
    {
      "cell_type": "markdown",
      "source": [
        "$$ R_T = \\frac{R_1 \\times R_2}{R_1 + R_2} $$"
      ],
      "metadata": {
        "id": "Uzsks48C1D1Q"
      }
    },
    {
      "cell_type": "code",
      "source": [
        "R_T = (R_1*R_2)/(R_1 + R_2)"
      ],
      "metadata": {
        "id": "Z_DAOX2dz4Pv"
      },
      "execution_count": null,
      "outputs": []
    },
    {
      "cell_type": "code",
      "source": [
        "print('R_T = %.1f [Ohm]'%R_T)"
      ],
      "metadata": {
        "colab": {
          "base_uri": "https://localhost:8080/"
        },
        "id": "Dvx1-HnI1aQR",
        "outputId": "31ac4af0-bbf4-46cc-ee24-26d600955abd"
      },
      "execution_count": null,
      "outputs": [
        {
          "output_type": "stream",
          "name": "stdout",
          "text": [
            "R_T = 12.0 [Ohm]\n"
          ]
        }
      ]
    },
    {
      "cell_type": "markdown",
      "source": [
        "![image.png](data:image/png;base64,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)"
      ],
      "metadata": {
        "id": "Cq2GXo6Pv6pK"
      }
    },
    {
      "cell_type": "markdown",
      "source": [
        "En la figura se muestra la resistencia de la carga $R_L$ conectada al circuito equivalente de Thévenin. Para la máxima potencia transferida, $R_L = R_T = 12 \\; \\Omega$"
      ],
      "metadata": {
        "id": "DKWcyC6L1roz"
      }
    },
    {
      "cell_type": "code",
      "source": [
        "R_L = R_T\n",
        "I_L = V_T/(R_T + R_L)"
      ],
      "metadata": {
        "id": "4rUOW25N2NKo"
      },
      "execution_count": null,
      "outputs": []
    },
    {
      "cell_type": "code",
      "source": [
        "print('I_L = %.3f [A]'%I_L)"
      ],
      "metadata": {
        "colab": {
          "base_uri": "https://localhost:8080/"
        },
        "id": "9DelOQ3h2tnB",
        "outputId": "604d5db4-a9cf-4d76-ab64-c12dfbc5885d"
      },
      "execution_count": null,
      "outputs": [
        {
          "output_type": "stream",
          "name": "stdout",
          "text": [
            "I_L = 2.917 [A]\n"
          ]
        }
      ]
    },
    {
      "cell_type": "markdown",
      "source": [
        "Finalmente, la máxima potencia transferida a la carga es"
      ],
      "metadata": {
        "id": "ZY1KS_Id26V1"
      }
    },
    {
      "cell_type": "markdown",
      "source": [
        "$$ P_L = (I_L)^2 R_T $$"
      ],
      "metadata": {
        "id": "MlFhxaM53Bvy"
      }
    },
    {
      "cell_type": "code",
      "source": [
        "P_L = I_L**2 * R_T"
      ],
      "metadata": {
        "id": "Mi4v6lAD2zjy"
      },
      "execution_count": null,
      "outputs": []
    },
    {
      "cell_type": "code",
      "source": [
        "print('P_L = %.1f [W]'%P_L)"
      ],
      "metadata": {
        "colab": {
          "base_uri": "https://localhost:8080/"
        },
        "id": "34LKW3Xm3arE",
        "outputId": "f0b154ff-ab8f-480c-c12c-4be797c02079"
      },
      "execution_count": null,
      "outputs": [
        {
          "output_type": "stream",
          "name": "stdout",
          "text": [
            "P_L = 102.1 [W]\n"
          ]
        }
      ]
    }
  ]
}