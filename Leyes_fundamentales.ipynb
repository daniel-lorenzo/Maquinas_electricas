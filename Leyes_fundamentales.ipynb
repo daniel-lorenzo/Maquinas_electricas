{
 "cells": [
  {
   "cell_type": "markdown",
   "metadata": {},
   "source": [
    "# Unidad 0\n",
    "__UNLZ - Facultad de Ingeniería__       \n",
    "__Máquinas e instalaciones eléctricas__      \n",
    "__Alumno:__ Daniel Antonio Lorenzo"
   ]
  },
  {
   "cell_type": "markdown",
   "metadata": {},
   "source": [
    "<a href=\"https://colab.research.google.com/github/daniel-lorenzo/Maquinas_electricas/blob/master/Leyes_fundamentales.ipynb\"><img align=\"left\" src=\"https://colab.research.google.com/assets/colab-badge.svg\" alt=\"Open in Colab\" title=\"Open and Execute in Google Colaboratory\"></a>"
   ]
  },
  {
   "cell_type": "markdown",
   "metadata": {},
   "source": [
    "## Leyes fundamentales del electromagnetismo\n",
    "Todas las máquinas eléctricas tanto las de corriente continua como las de corriente alterna, ya sean estáticas o rotantes, funcionan según un grupo de leyes fundamentales que representan los fenómenos que en ellas suceden."
   ]
  },
  {
   "cell_type": "markdown",
   "metadata": {},
   "source": [
    "La comprensión de estas leyes hace más sencillo el entender el funcionamento de todas las máquinas eléctricas."
   ]
  },
  {
   "cell_type": "markdown",
   "metadata": {},
   "source": [
    "Las cuatro leyes fundamentades del electromagnetismo que estudiaremos son,"
   ]
  },
  {
   "cell_type": "markdown",
   "metadata": {},
   "source": [
    "### 1) Ley de Ampère\n",
    "Esta ley vincula el desplazamiento de cargas eléctricas con la generación de un campo magnético. Es a través de la circulación de este campo que obtengo el valor de la fuerza magnetomotriz encerrada. Dice:"
   ]
  },
  {
   "cell_type": "markdown",
   "metadata": {},
   "source": [
    "La circulación o trabajo del vector *H*, intensidad de campo magnético, a lo largo de una línea cerrada equipotencial es igual a la fuerza megnetomotriz encerrada por dicha línea."
   ]
  },
  {
   "cell_type": "markdown",
   "metadata": {},
   "source": [
    "$$ \\oint H \\, di = N \\cdot i $$"
   ]
  },
  {
   "cell_type": "markdown",
   "metadata": {},
   "source": [
    "<center>\n",
    "<img src=\"img/fund_01.png\">\n",
    "    </center>"
   ]
  },
  {
   "cell_type": "markdown",
   "metadata": {},
   "source": [
    "Como es lógico de interpretar que a medida que me alejo del o de los conductores por los que circula corriente y que están generando campo, este campo se va disminuyendo en valor pero como la circulación se realiza a lo largo de una línea cerrada mayor sigue manteniéndose la constante de los amperes-vuelta abrazados."
   ]
  },
  {
   "cell_type": "markdown",
   "metadata": {},
   "source": [
    "Un ejemplo de aplicación de esta ley es el de la pinza amperométrica. Es un instrumento de medición que no necesita interrumpir la circulación de corriente abriendo el conductor ya que un laminado magnético constituido por dos partes se abre para abrazar al conductor y luego se cierra para que exista el mínimo entrehierro posible y así captar el campo magnético circundante y de allí inferir la fuerza magnetomotriz abrazada."
   ]
  },
  {
   "cell_type": "markdown",
   "metadata": {},
   "source": [
    "<img src=\"img/pinza-amperometrica.jpg\">"
   ]
  },
  {
   "cell_type": "markdown",
   "metadata": {},
   "source": [
    "El uso más importante es de medir corrientes en conductores, y este aparato funciona adecuadamente ya que para este caso particular los $N \\cdot I$ son iguales la $I$ ya que $N$ es uno para el caso de un conductor."
   ]
  },
  {
   "cell_type": "markdown",
   "metadata": {},
   "source": [
    " Si intentásemos medir la corriente circulando por un conductor bifilar el resultado sería cero ya que ambas corrientes abrazadas son iguales pero de sentido contrario. Lo mismo sucedería se midiéramos un cable trifásico."
   ]
  },
  {
   "cell_type": "markdown",
   "metadata": {},
   "source": [
    "<center><img src=\"img/Pinza-amperimetrica-fluke.jpg\"></center>"
   ]
  },
  {
   "cell_type": "markdown",
   "metadata": {},
   "source": [
    "Por último otra vinculación entre la corriente circulando por el conductor y su campo H, es que el campo tiene un sentido de rotación como el que tendría un tornillo de rosca derecha al atornillarse en el plano del papel moviéndose como la corriente, tal lo representado en el dibujo."
   ]
  },
  {
   "cell_type": "markdown",
   "metadata": {},
   "source": [
    "Por último las corrientes entrantes al papel se grafican con una cruz y las salientes con un punto."
   ]
  },
  {
   "cell_type": "markdown",
   "metadata": {},
   "source": [
    "Un caso de aplicación es el de la bobina, esto es un grupo de conductores arrollados en un mismo sentido sobre un núcleo de ferrita, hierro laminado, aire, etc. y con un principio y un final de bobina."
   ]
  },
  {
   "cell_type": "markdown",
   "metadata": {},
   "source": [
    "Algo que utilizaremos mucho es el caso de un solenoide."
   ]
  },
  {
   "cell_type": "markdown",
   "metadata": {},
   "source": [
    "<center>\n",
    "<img src=\"img/fund_02.png\">\n",
    "    </center>"
   ]
  },
  {
   "cell_type": "markdown",
   "metadata": {},
   "source": [
    "### 2) Leyes de Kirchoff\n",
    "Estas leyes nos muestran que en todo circuito eléctrico las tensiones aplicadas son iguales a las caídas de tensión que se producen, y que no existe pérdida o generación de corriente eléctrica en un nodo del circuito."
   ]
  },
  {
   "cell_type": "markdown",
   "metadata": {},
   "source": [
    "#### Primera Ley de Kirchoff\n",
    "En todo circuito eléctrico cerrado, la sumatoria de tensiones es igual a la sumatoria de caídas de tensión que se producen."
   ]
  },
  {
   "cell_type": "markdown",
   "metadata": {},
   "source": [
    "Esta ley se cumple al igual que en corriente continua con la salvedad de que aquí las tensiones generadas pueden provenir de diversas fuentes como generadores, tensiones de autoinducción, tensiones de inducción mutua como analizaremos mas adelante con la ley de Faraday Lenz."
   ]
  },
  {
   "cell_type": "markdown",
   "metadata": {},
   "source": [
    "$$ \\sum \\mbox{Tensiones aplicadas} \\qquad = \\qquad \\sum \\mbox{Caidas de tensión} $$"
   ]
  },
  {
   "cell_type": "markdown",
   "metadata": {},
   "source": [
    "Estamos hablando de sumatorias vectoriales."
   ]
  },
  {
   "cell_type": "markdown",
   "metadata": {},
   "source": [
    "#### Segunda Ley de Kirchoff\n",
    "En todo nodo de un circuito eléctrico la sumatoria de las corrientes entrantes al nodo siempre es igual a la sumatoria de corrientes salientes del mismo."
   ]
  },
  {
   "cell_type": "markdown",
   "metadata": {},
   "source": [
    "$$ \\sum \\mbox{Corrientes entrantes} \\qquad = \\qquad \\sum \\mbox{Corrientes salientes} $$"
   ]
  },
  {
   "cell_type": "markdown",
   "metadata": {},
   "source": [
    "### 3) Ley de Lorentz\n",
    "Esta ley vincula la fuerza a la que es sometido un conductor por el que circula corriente y esta inmerso en un campo magnético."
   ]
  },
  {
   "cell_type": "markdown",
   "metadata": {},
   "source": [
    "<img src=\"img/fund_03.png\">\n",
    "$$F = B \\ell I \\sin \\alpha$$"
   ]
  },
  {
   "cell_type": "markdown",
   "metadata": {},
   "source": [
    "La multiplicación por $\\sin \\alpha$ nos da la longitud real efectica de conductor inmerso en el campo magnético."
   ]
  },
  {
   "cell_type": "markdown",
   "metadata": {},
   "source": [
    "Lo que quedaría simplificado de la siguiente manera"
   ]
  },
  {
   "cell_type": "markdown",
   "metadata": {},
   "source": [
    "F = fuerza sobre el conductor    \n",
    "B = inducción del campo magnético    \n",
    "I = corriente que circula por el conductor     \n",
    "L = longitud efectiva del conductor en el campo    \n",
    "<img src=\"img/fund_04.png\">"
   ]
  },
  {
   "cell_type": "markdown",
   "metadata": {},
   "source": [
    "Una forma de ver hacia donde se establece el sentido de la fuerza es dándole sentido al campo del conductor y al analizar este campo con el principal, la fuerza F tiende a desplazar al conductor en el sentido donde los campos se debilitan (oponen)."
   ]
  },
  {
   "cell_type": "markdown",
   "metadata": {},
   "source": [
    "### 4) Ley de Faraday - Lenz\n",
    "Esta ley nos indica cual es el valor de tensión generada en un circuito eléctrico cuando alguno de sus componentes esta inmerso en una variación de campo magnético."
   ]
  },
  {
   "cell_type": "markdown",
   "metadata": {},
   "source": [
    "Y dice: __La fuerza electromotriz generada en un circuito cerrado es directamente proporcional a la variación de flujo magnético conectado por el circuito por unidad de tiempo.__"
   ]
  },
  {
   "cell_type": "markdown",
   "metadata": {},
   "source": [
    "$$ e = - \\frac{d \\phi}{dt} \\cdot N $$"
   ]
  },
  {
   "cell_type": "markdown",
   "metadata": {},
   "source": [
    "La expresión de esta ley nos indica que el circuito cerrado, bobina, espiras, esta sometida a un campo variable."
   ]
  },
  {
   "cell_type": "markdown",
   "metadata": {},
   "source": [
    "Es importante destacar que esto puede suceder en diferentes situaciones como:\n",
    "1. Espira estatica inmersa en un campo magnético pulsante o rotante.\n",
    "2. Espira que se desplaza respecto de un campo magnético fijo.\n",
    "3. Espira que se desplaza y que el campo también manteniendo una velocidad relativa entre uno y otro."
   ]
  },
  {
   "cell_type": "markdown",
   "metadata": {},
   "source": [
    "El signo menos en la derivada indica que \"se opone a la causa que lo genera\" el sentido lógico de esta aseveración esta vinculada al principio de conservación de la energía ya que supongamos el siguiente caso en el que una espira al estar inmersa en un campo variable se le genera una tensión y si esta tensión puede hacer circular una corriente y por ley de Ampere genera un campo magnético esta deberá oponerse al inicial porque si no lo hiciera aumentaría esa variación inicial generando más tensión entonces más corriente luego mas campo así habría más tensión etc, etc."
   ]
  },
  {
   "cell_type": "markdown",
   "metadata": {},
   "source": [
    "<img src=\"img/fund_05.png\">"
   ]
  },
  {
   "cell_type": "markdown",
   "metadata": {},
   "source": [
    "Veamos como aparecen e interactúan muchos de los conceptos que ya indicamos como imprescindibles y que al aplicarlos traen claridad sobre los fenómenos que se desarrollan."
   ]
  },
  {
   "cell_type": "markdown",
   "metadata": {},
   "source": [
    "Al aplicar la tensión variable en el tiempo, V de la derecha indefectiblemente aparecerá la corriente I que estará desfasada de V el ángulo de la impedancia del bobinado, que al ser una bobina sobre un núcleo de hierro esta corriente estará en retraso debido al carácter reactivo inductivo de las bobinas."
   ]
  },
  {
   "cell_type": "markdown",
   "metadata": {},
   "source": [
    "Al circular corriente y respetando la ley Ampere según la dirección y sentido del campo magnético generado, tendremos el campo Norte - Sur, indicado. Las líneas de campo por convención van desde el norte hacia el sur de allí el sentido de las flechas de H."
   ]
  },
  {
   "cell_type": "markdown",
   "metadata": {},
   "source": [
    "Para saber la polaridad de la tensión generada debo saber en que momento de la onda de I estamos."
   ]
  },
  {
   "cell_type": "markdown",
   "metadata": {},
   "source": [
    "Denominamos polaridad de la tensión al sentido entrante o saliente de la corriente que esa tensión haría circular en caso de cerrarse el circuito de la espira o bobina. Como vemos para el cuarto de ciclo 1 de la corriente, esta produce un aumento de las líneas de campo, esta variación produce una tensión en la bobina interesada, la polaridad será tal que de circular corriente esta generaría una campo que se opone a la variación del campo que produce la tensión, por lo que esta polaridad será del sentido indicado en la fig. ya que de esa forma el campo de la bobina se opone al crecimiento del campo principal."
   ]
  },
  {
   "cell_type": "markdown",
   "metadata": {},
   "source": [
    "Para completar este concepto de que se opone a la cauda que la genera, veamos como actua la ley de Lorentz, la que si esta presente debería confirmar a la ley de Faraday - Lenz."
   ]
  },
  {
   "cell_type": "markdown",
   "metadata": {},
   "source": [
    "Y esto es así ya que se aplicamos Lorentz según los sentidos de circulación de la corriente, las fuerzas que aparecen tienden a hacer rotar la bobina en el sentido de reducir las líneas de campo abrazadas y por ende oponerse a la causa que la genera."
   ]
  },
  {
   "cell_type": "markdown",
   "metadata": {},
   "source": [
    "En definitiva por cualquier camino que analizemos las leyes todas deben complementarse de forma tal que unas justifiquen a las otras."
   ]
  },
  {
   "cell_type": "markdown",
   "metadata": {},
   "source": [
    "Teniendo en claro como se genera una tensión pasamos a ver las tensiones de inducción mutua."
   ]
  },
  {
   "cell_type": "markdown",
   "metadata": {},
   "source": [
    "Si tenemos una bobina A circulasa por una corriente alterna I, aparecerá un campo magnético variable producto de esta circulación de corriente."
   ]
  },
  {
   "cell_type": "markdown",
   "metadata": {},
   "source": [
    "La tensión generada en A será\n",
    "<center>\n",
    "<img src=\"img/fund_06.png\">\n",
    "    </center>"
   ]
  },
  {
   "cell_type": "markdown",
   "metadata": {},
   "source": [
    "$$ e_A = - N_A K \\frac{d \\phi_A}{dt} $$"
   ]
  },
  {
   "cell_type": "markdown",
   "metadata": {},
   "source": [
    "$$ e_A = L \\frac{di_A}{dt} $$"
   ]
  },
  {
   "cell_type": "markdown",
   "metadata": {},
   "source": [
    "Siendo la constante $NK$ una constante que llamaremos $L$ constante de autoinducción."
   ]
  },
  {
   "cell_type": "markdown",
   "metadata": {},
   "source": [
    "Esta tensión $e_A$ es la fuerza electromotriz de autoinducción."
   ]
  },
  {
   "cell_type": "markdown",
   "metadata": {},
   "source": [
    "Si en las inmediaciones del campo generado por la bobina A existen otras bobinas como la B, sobre esta última por concatenar una variación de flujo magnético, también se le generara una tensión"
   ]
  },
  {
   "cell_type": "markdown",
   "metadata": {},
   "source": [
    "$$ e_B = - N_B K' \\frac{d \\phi_A}{dt} $$"
   ]
  },
  {
   "cell_type": "markdown",
   "metadata": {},
   "source": [
    "$$ e_B = M \\frac{di_A}{dt} $$"
   ]
  },
  {
   "cell_type": "markdown",
   "metadata": {},
   "source": [
    "Analizando la situación como lo hicimos con la bobina A en la bobina B también se genera una tensión donde la constante de proporcionalidad M se la denomina constante de inducción mutua."
   ]
  },
  {
   "cell_type": "markdown",
   "metadata": {},
   "source": [
    "Esta tensión es la __fuerza electromotriz de inducción mutua.__"
   ]
  },
  {
   "cell_type": "markdown",
   "metadata": {},
   "source": [
    "Debemos aclarar que estas tensiones intervienen en la ecuación de mallas de Kirchoff cuando decimos \"la sumatoria de tensiones aplicadas...\" Forman parte vectorialmente de las tensiones aplicadas a un circuito por mas que no estén provistas por una fuente específica."
   ]
  },
  {
   "cell_type": "code",
   "execution_count": null,
   "metadata": {},
   "outputs": [],
   "source": []
  }
 ],
 "metadata": {
  "kernelspec": {
   "display_name": "Python 3",
   "language": "python",
   "name": "python3"
  },
  "language_info": {
   "codemirror_mode": {
    "name": "ipython",
    "version": 3
   },
   "file_extension": ".py",
   "mimetype": "text/x-python",
   "name": "python",
   "nbconvert_exporter": "python",
   "pygments_lexer": "ipython3",
   "version": "3.8.3"
  }
 },
 "nbformat": 4,
 "nbformat_minor": 4
}
