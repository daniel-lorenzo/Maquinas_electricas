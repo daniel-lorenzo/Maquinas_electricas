{
 "cells": [
  {
   "cell_type": "markdown",
   "metadata": {},
   "source": [
    "# Máquinas de corriente contínua"
   ]
  },
  {
   "cell_type": "markdown",
   "metadata": {},
   "source": [
    "## Ejemplo 7-1\n",
    "La figura muestra una espira giratoria sencilla entre caras polares conectadas a una batería y a un resistor mediante un interruptor. El resistor que se ilustra representa la resistencia total de la batería y del alambre de la máquina. Las dimensiones físicas y características de la máquina son:\n",
    "\n",
    "$$\\begin{array}{ll}\n",
    "r = 0,5 \\, \\mathrm{m} & l = 1,0 \\, \\mathrm{m} \\\\\n",
    "R = 0,3 \\, \\Omega & B = 0,25 \\, \\mathrm{T} \\\\\n",
    "V_B = 120 \\, \\mathrm{V}\n",
    "\\end{array}$$"
   ]
  },
  {
   "cell_type": "markdown",
   "metadata": {},
   "source": [
    "<img src=\"img/fig_7_1.svg\" width=600>"
   ]
  },
  {
   "cell_type": "markdown",
   "metadata": {},
   "source": [
    "1. ¿Qué sucede cuando se cierra el interruptor?\n",
    "2. ¿Cuál es la corriente de arranque máxima de la máquina? ¿Cuál es su velocidad angular en estado estacionario en vacío?\n",
    "3. Suponga que se añade una carga a la espira y el par resultante es $10 \\, \\mathrm{N \\cdot m}$. ¿Cuál será la nueva velocidad en estado estacionario? ¿Cuánta potencia se suministrara al eje de la máquina? ¿Cuánt potencia suministrará la batería? ¿Esta máquina actúa como motor o como generador?\n",
    "4. Suponga que la máquina está en vacío de nuevo y se aplica al eje un par de $7,5 \\, \\mathrm{N \\cdot m}$ en el sentido de la rotación. ¿Cuál es la nueva velocidd de estado estacionario? ¿Esta máquina es un motor o un generador?\n",
    "5. Suponga que la máquina funciona en vacío. ¿Cuál será la velocidad final en estado estacionario si se reduce la densidad de flujo a $0,20 \\, \\mathrm{T}$?"
   ]
  },
  {
   "cell_type": "markdown",
   "metadata": {},
   "source": [
    "### Solución\n",
    "1. Cuando se cierra el interruptor de la figura, fluye corriente en la espira. Puesto que la espira está estacionaria inicialmente, $e_\\mathrm{ind} = 0$. Por lo tanto, la corriente está dada por"
   ]
  },
  {
   "cell_type": "markdown",
   "metadata": {
    "hide_input": false
   },
   "source": [
    "$$ i = \\frac{V_B - e_\\mathrm{ind}}{R} = \\frac{V_B}{R} $$"
   ]
  },
  {
   "cell_type": "markdown",
   "metadata": {},
   "source": [
    "La corriente fluye a través de la espira del rotor y produce un par\n",
    "\n",
    "$$ \\tau_\\mathrm{ind} = \\frac{2}{\\pi} \\phi i \\qquad \\mbox{(antihorario)}$$"
   ]
  },
  {
   "cell_type": "markdown",
   "metadata": {},
   "source": [
    "Este par inducido produce una aceleración angular en dirección contraria a la de las manecillas del reloj, por lo que el rotor de la máquina comienza a girar. Pero conforme el rotor gira, se produce un voltaje inducido en el motor. Este voltaje inducido está dado por"
   ]
  },
  {
   "cell_type": "markdown",
   "metadata": {},
   "source": [
    "$$ e_\\mathrm{ind} = \\frac{2}{\\pi} \\phi \\omega_m $$"
   ]
  },
  {
   "cell_type": "markdown",
   "metadata": {},
   "source": [
    "por lo que la corriente $i$. Conforme cae la corriente, disminuye $\\tau_\\mathrm{ind} = (2/\\pi) \\phi i \\, \\downarrow$ y la máquina gira en estado estacionario con $\\tau_\\mathrm{ind} = 0$, y el voltaje de la batería $V_B = e_\\mathrm{ind}$."
   ]
  },
  {
   "cell_type": "markdown",
   "metadata": {},
   "source": [
    "2. En condiciones de arranque, la corriente de la máquina es\n",
    "\n",
    "$$ i = \\frac{V_B}{R} $$"
   ]
  },
  {
   "cell_type": "code",
   "execution_count": 2,
   "metadata": {},
   "outputs": [],
   "source": [
    "# Datos:\n",
    "r = 0.5 # [m]\n",
    "R = 0.3 # [ohm]\n",
    "V_B = 120 # [V]\n",
    "l = 1.0 # [m]\n",
    "B = 0.25 # [T]"
   ]
  },
  {
   "cell_type": "code",
   "execution_count": 3,
   "metadata": {},
   "outputs": [
    {
     "name": "stdout",
     "output_type": "stream",
     "text": [
      "i = 400.0 [A]\n"
     ]
    }
   ],
   "source": [
    "i = V_B/R\n",
    "print(\"i = %.1f [A]\"%i)"
   ]
  },
  {
   "cell_type": "markdown",
   "metadata": {},
   "source": [
    "En condiciones de estado estacionario en vacío, el par inducido $\\tau_\\mathrm{ind}$ debe ser cero. Pero si $\\tau_\\mathrm{imd} = 0$, esto implica que la corriente $i$ debe ser igual a cero, puesto que $\\tau_\\mathrm{ind} = (2/\\pi) \\phi i$ y el flujo es distinto de cero. El hecho de que $i = 0 \\, \\mathrm{A}$ significa que el voltaje de la batería $V_B = e_\\mathrm{ind}$. Por lo tanto, la velocidad del rotor es"
   ]
  },
  {
   "cell_type": "markdown",
   "metadata": {},
   "source": [
    "$$ V_B = e_\\mathrm{ind} = \\frac{2}{\\pi} \\phi \\omega_m $$"
   ]
  },
  {
   "cell_type": "markdown",
   "metadata": {},
   "source": [
    "$$ \\omega_m = \\frac{V_B}{(2/\\pi) \\phi} = \\frac{V_B}{2rlB} $$"
   ]
  },
  {
   "cell_type": "code",
   "execution_count": 4,
   "metadata": {},
   "outputs": [],
   "source": [
    "w_m = V_B/(2*r*l*B)"
   ]
  },
  {
   "cell_type": "code",
   "execution_count": 5,
   "metadata": {},
   "outputs": [
    {
     "name": "stdout",
     "output_type": "stream",
     "text": [
      "w_m = 480.0 [rad/s]\n"
     ]
    }
   ],
   "source": [
    "print(\"w_m = %.1f [rad/s]\"%w_m)"
   ]
  },
  {
   "cell_type": "markdown",
   "metadata": {},
   "source": [
    "3. Si se aplica un par de carga de $10 \\, \\mathrm{N \\cdot m}$ al de eje de la máquina, comenzará a perder velocidad. Pero conforme $\\omega_m$ disminuye, se reduce $e_\\mathrm{ind} = (2/\\pi) \\phi \\omega_m \\, \\downarrow$ y la corriente del rotor se incrementa $[i = V_B - e_\\mathrm{ind} \\downarrow)/R]$. A medida que la corriente del rotor se incrementa, $| \\tau_\\mathrm{ind}|$ también aumenta, hasta que $|\\tau_\\mathrm{ind} | = | \\tau_\\mathrm{carga} |$ a una velocidad $\\omega_m$ menor.\n",
    "\n",
    "En estado estacionario, $|\\tau_\\mathrm{carga}| = |\\tau_\\mathrm{ind}| = (2/\\pi) \\phi i$. Por lo tanto,"
   ]
  },
  {
   "cell_type": "markdown",
   "metadata": {},
   "source": [
    "$$ i = \\frac{\\tau_\\mathrm{ind}}{(2/\\pi) \\phi} = \\frac{\\tau_\\mathrm{ind}}{2rlB} $$"
   ]
  },
  {
   "cell_type": "code",
   "execution_count": 7,
   "metadata": {},
   "outputs": [],
   "source": [
    "tau_ind = 10 # [N·m]\n",
    "\n",
    "i = tau_ind/(2*r*l*B)"
   ]
  },
  {
   "cell_type": "code",
   "execution_count": 8,
   "metadata": {},
   "outputs": [
    {
     "name": "stdout",
     "output_type": "stream",
     "text": [
      "i = 40.0 [A]\n"
     ]
    }
   ],
   "source": [
    "print(\"i = %.1f [A]\"%i)"
   ]
  },
  {
   "cell_type": "markdown",
   "metadata": {},
   "source": [
    "Por la ley de voltaje de Kirchhoff, $e_\\mathrm{ind} = V_B - iR$, por lo que"
   ]
  },
  {
   "cell_type": "code",
   "execution_count": 10,
   "metadata": {},
   "outputs": [],
   "source": [
    "e_ind = V_B - i*R"
   ]
  },
  {
   "cell_type": "code",
   "execution_count": 11,
   "metadata": {},
   "outputs": [
    {
     "name": "stdout",
     "output_type": "stream",
     "text": [
      "e_ind = 108.0 [V]\n"
     ]
    }
   ],
   "source": [
    "print(\"e_ind = %.1f [V]\"%e_ind)"
   ]
  },
  {
   "cell_type": "markdown",
   "metadata": {},
   "source": [
    "Finalmente, la velocidad del eje es\n",
    "$$ \\omega_m = \\frac{e_\\mathrm{ind}}{(2/\\pi) \\phi} = \\frac{e_\\mathrm{ind}}{2rlB} $$"
   ]
  },
  {
   "cell_type": "code",
   "execution_count": 12,
   "metadata": {},
   "outputs": [],
   "source": [
    "w_m = e_ind/(2*r*l*B)"
   ]
  },
  {
   "cell_type": "code",
   "execution_count": 13,
   "metadata": {},
   "outputs": [
    {
     "name": "stdout",
     "output_type": "stream",
     "text": [
      "w_m = 432.0 [rad/s]\n"
     ]
    }
   ],
   "source": [
    "print(\"w_m = %.1f [rad/s]\"%w_m)"
   ]
  },
  {
   "cell_type": "markdown",
   "metadata": {},
   "source": [
    "La potencia suministrada al eje es\n",
    "$$ P = V_B i $$"
   ]
  },
  {
   "cell_type": "code",
   "execution_count": 14,
   "metadata": {},
   "outputs": [],
   "source": [
    "P = V_B*i"
   ]
  },
  {
   "cell_type": "code",
   "execution_count": 15,
   "metadata": {},
   "outputs": [
    {
     "name": "stdout",
     "output_type": "stream",
     "text": [
      "P = 4800 [W]\n"
     ]
    }
   ],
   "source": [
    "print(\"P = %.0f [W]\"%P)"
   ]
  },
  {
   "cell_type": "markdown",
   "metadata": {},
   "source": [
    "Esta máquina opera como motor, es decir, convierte potencia eléctrica en potencia mecánica."
   ]
  },
  {
   "cell_type": "markdown",
   "metadata": {},
   "source": [
    "Si se aplica un par en la dirección del movimiento, el rotor acelera. Conforme se incrementa la velocidad, aumenta el voltaje interno $e_{ind}$ y sobrepasa $V_B$, por lo que la corriente fluye hacia fuera de la parte superior de la barra y hacia la batería. Esta máquina ahora actúa como generador. La corriente provoca un par inducido opuesto a la dirección del movimiento. El par inducido se opone al par externo aplicado y a la carga $|\\tau_\\mathrm{carga}| = |\\tau_\\mathrm{ind}|$ a una velocidad $\\omega_m$."
   ]
  },
  {
   "cell_type": "markdown",
   "metadata": {},
   "source": [
    "La corriente en el rotor será\n",
    "\n",
    "$$ i = \\frac{\\tau_\\mathrm{ind}}{(2/\\pi) \\phi} = \\frac{\\tau_\\mathrm{ind}}{2rlB} $$"
   ]
  },
  {
   "cell_type": "code",
   "execution_count": 16,
   "metadata": {},
   "outputs": [],
   "source": [
    "tau_ind = 7.5 # [N·m]"
   ]
  },
  {
   "cell_type": "code",
   "execution_count": 17,
   "metadata": {},
   "outputs": [],
   "source": [
    "i = tau_ind/(2*r*l*B)"
   ]
  },
  {
   "cell_type": "code",
   "execution_count": 18,
   "metadata": {},
   "outputs": [
    {
     "name": "stdout",
     "output_type": "stream",
     "text": [
      "i = 30.0 [A]\n"
     ]
    }
   ],
   "source": [
    "print(\"i = %.1f [A]\"%i)"
   ]
  },
  {
   "cell_type": "markdown",
   "metadata": {},
   "source": [
    "El voltaje inducido $e_\\mathrm{ind}$ es\n",
    "$$ e_\\mathrm{ind} = V_B + i R $$"
   ]
  },
  {
   "cell_type": "code",
   "execution_count": 19,
   "metadata": {},
   "outputs": [],
   "source": [
    "e_ind = V_B + i*R"
   ]
  },
  {
   "cell_type": "code",
   "execution_count": 20,
   "metadata": {},
   "outputs": [
    {
     "name": "stdout",
     "output_type": "stream",
     "text": [
      "e_ind = 129.0 [V]\n"
     ]
    }
   ],
   "source": [
    "print(\"e_ind = %.1f [V]\"%e_ind)"
   ]
  },
  {
   "cell_type": "markdown",
   "metadata": {},
   "source": [
    "Finalmente, la velocidad del eje es\n",
    "\n",
    "$$ \\omega_m = \\frac{e_\\mathrm{ind}}{(2/\\pi) \\phi} = \\frac{e_\\mathrm{ind}}{2rlB} $$"
   ]
  },
  {
   "cell_type": "code",
   "execution_count": 21,
   "metadata": {},
   "outputs": [],
   "source": [
    "w_m = e_ind/(2*r*l*B)"
   ]
  },
  {
   "cell_type": "code",
   "execution_count": 22,
   "metadata": {},
   "outputs": [
    {
     "name": "stdout",
     "output_type": "stream",
     "text": [
      "w_m = 516.0 [rad/s]\n"
     ]
    }
   ],
   "source": [
    "print(\"w_m = %.1f [rad/s]\"%w_m)"
   ]
  },
  {
   "cell_type": "markdown",
   "metadata": {},
   "source": [
    "4. Puesto que inicialmente, con las condiciones propuestas al principio, la máquina no tiene carg, la velocidad $\\omega_m = 480 \\, \\mathrm{rad/s}$. Si disminuye el flujo, se presenta un transitorio. Sin embargo, una vez que se termina el transitorio, la máquina deba tener una vez más un par igual a cero puesto que aún no hay carga en el eje. Si $\\tau_\\mathrm{ind} = 0$, entonces la corriente en el rotor debe ser cero y $V_B = e_\\mathrm{ind}$. Entonces, la velocidad en el eje es"
   ]
  },
  {
   "cell_type": "markdown",
   "metadata": {},
   "source": [
    "$$ \\omega_m = \\frac{e_\\mathrm{ind}}{(2/\\pi) \\phi} = \\frac{e_\\mathrm{ind}}{2rlB} $$"
   ]
  },
  {
   "cell_type": "code",
   "execution_count": 28,
   "metadata": {},
   "outputs": [],
   "source": [
    "e_ind = 120 # [V]\n",
    "B = 0.20 # [T]"
   ]
  },
  {
   "cell_type": "code",
   "execution_count": 29,
   "metadata": {},
   "outputs": [],
   "source": [
    "w_m = e_ind/(2*r*l*B)"
   ]
  },
  {
   "cell_type": "code",
   "execution_count": 30,
   "metadata": {},
   "outputs": [
    {
     "name": "stdout",
     "output_type": "stream",
     "text": [
      "w_m = 600.0 [rad/s]\n"
     ]
    }
   ],
   "source": [
    "print(\"w_m = %.1f [rad/s]\"%w_m)"
   ]
  },
  {
   "cell_type": "markdown",
   "metadata": {},
   "source": [
    "*Nótese que cuando el flujo en la máquina disminuye, la velocidad se incrementa.* Éste es el mismo comportamiento que se observa en una máquina lineal y es la misma manera en que se comportan los motores de cd reales."
   ]
  },
  {
   "cell_type": "code",
   "execution_count": null,
   "metadata": {},
   "outputs": [],
   "source": []
  }
 ],
 "metadata": {
  "hide_input": false,
  "kernelspec": {
   "display_name": "Python 3",
   "language": "python",
   "name": "python3"
  },
  "language_info": {
   "codemirror_mode": {
    "name": "ipython",
    "version": 3
   },
   "file_extension": ".py",
   "mimetype": "text/x-python",
   "name": "python",
   "nbconvert_exporter": "python",
   "pygments_lexer": "ipython3",
   "version": "3.8.10"
  },
  "toc": {
   "base_numbering": 1,
   "nav_menu": {},
   "number_sections": true,
   "sideBar": true,
   "skip_h1_title": false,
   "title_cell": "Table of Contents",
   "title_sidebar": "Contents",
   "toc_cell": false,
   "toc_position": {},
   "toc_section_display": true,
   "toc_window_display": false
  },
  "varInspector": {
   "cols": {
    "lenName": 16,
    "lenType": 16,
    "lenVar": 40
   },
   "kernels_config": {
    "python": {
     "delete_cmd_postfix": "",
     "delete_cmd_prefix": "del ",
     "library": "var_list.py",
     "varRefreshCmd": "print(var_dic_list())"
    },
    "r": {
     "delete_cmd_postfix": ") ",
     "delete_cmd_prefix": "rm(",
     "library": "var_list.r",
     "varRefreshCmd": "cat(var_dic_list()) "
    }
   },
   "position": {
    "height": "369.85px",
    "left": "512px",
    "right": "20px",
    "top": "120px",
    "width": "284px"
   },
   "types_to_exclude": [
    "module",
    "function",
    "builtin_function_or_method",
    "instance",
    "_Feature"
   ],
   "window_display": false
  }
 },
 "nbformat": 4,
 "nbformat_minor": 4
}
